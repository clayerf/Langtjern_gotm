{
 "cells": [
  {
   "cell_type": "code",
   "execution_count": 1,
   "metadata": {
    "collapsed": true,
    "deletable": true,
    "editable": true
   },
   "outputs": [],
   "source": [
    "%matplotlib inline"
   ]
  },
  {
   "cell_type": "markdown",
   "metadata": {
    "deletable": true,
    "editable": true
   },
   "source": [
    "<!---\n",
    "The \"require\" is necessary in order to format chemical equations using the mhchem package as an extension of mathjax\n",
    "-->\n",
    "$$\\require{mhchem}$$  \n",
    "# DOM model in FABM\n",
    "\n",
    "## Pools\n",
    "\n",
    "Pools of carbon considered as well as their sources and sinks in the model. Pools, sources and sinks in parentheses are already in FABM.\n",
    "\n",
    "| Pool  | Symbol &nbsp; &nbsp; | Source | Sink |\n",
    "| --- | --- | --- | --- |\n",
    "| (Labile POC)<sup>**1**</sup> | $\\left( \\ce{POMa} \\right)$ | (Primary production) | (Sinking) |\n",
    "| (Semi-labile POM)<sup>**2**</sup>  | $ \\left(\\ce{POMb} \\right)$ | Flocculation <br> River inflow | Sinking |\n",
    "| Labile DOM  | $ \\ce{DOMa} $ | Photo-oxidation | Respiration <br> Photo-mineralisation  |\n",
    "| Semi-labile DOM  | $ \\ce{DOMb} $ | River inflow | Respiration<br> Photo-oxidation |\n",
    "| Dissolved organic <br> carbon  | $ \\left(\\ce{CO2}\\right) $ | (Respiration) | (Primary production) |\n",
    "<sup>**1**</sup> Assumed to be the sum of cyanobacteria, diatoms, and flagellates in ERGOM\n",
    "<br> <sup>**2**</sup> Sinking detritus in ERGOM \n",
    "\n",
    "\n",
    "## Biogeochemical sources and sinks of POM and DOM\n",
    "\n",
    "### Primary production\n",
    "From ERGOM:\n",
    "$$\n",
    "\\begin{align}\n",
    "\\ce{~uCO2 + cNH4+ + wPO4 + H2O &-> POM_a + O2}\n",
    "\\end{align}\n",
    "$$\n",
    "\n",
    "### DOC mineralization by bacteria in the water column\n",
    "$$\n",
    "\\begin{align} \n",
    "\\ce{\\frac{1}{x}(CH2O)_{x}(NH4+)_{y}(H3PO4)_{z} + O2 &->  $\\left($1-\\frac{y}{z}+\\frac{2z}{x}$\\right)$CO2 + H2O + \\frac{z}{x}H3PO4 + \\frac{y}{x} NH4+}\\tag{R1}\\\\ \n",
    "\\frac{1}{x}\\ce{(CH2O)_{x}(NH4+)_{y}(H3PO4)_{z} + $0.8$NO3- + $0.8$H+ &-> $\\left(0.2$-\\frac{y}{x}+\\frac{2z}{x}$\\right)$HCO3- + $0.4$N2 + $1.4$H2O + \\frac{z}{x}H3PO4 + \\frac{y}{x}NH4+} \\tag{R2}\n",
    "\\end{align}\n",
    "$$\n",
    "\n",
    "### Photo-oxidation and photo-mineralization\n",
    "\n",
    "$$\n",
    "\\ce{DOMa->CO2} \\tag{R3,R4}\n",
    "$$\n",
    "$$\n",
    "\\ce{DOMb->CO2} \\tag{R3,R4}\n",
    "$$\n",
    "\n",
    "### Flocculation\n",
    "$$\n",
    "\\ce{DOMb->POMb} \\tag{R5}\n",
    "$$\n",
    "\n",
    "## Rates. Formulation of the reaction rates\n",
    "\n",
    "$$\n",
    "\\begin{align}\n",
    "&\\textbf{Reaction rates} & & \\textbf{Units}\\\\\n",
    "&\\ce{R_{$1i$} = k_{OM_{i}} \\times [OM_{i}] \\times \\frac{[O2]}{K_{O2}^{m} + [O2]} \\times \\theta^{T-20}} &  &  \\mu mol\\cdot m^{-3} \\cdot s^{-1}  \\\\ \n",
    "&\\ce{R_{$2i$} = k_{OM_{i}} \\times [OM_{i}] \\times \\frac{[NO3]}{K_{NO3}^{m} + [NO3]} \\times \\frac{K_{O2}^{in}}{K_{O2}^{in} + [O2]} + \\times \\theta^{T-20}} &  & \\mu mol\\cdot m^{-3} \\cdot s^{-1} \\\\ \n",
    "&R_{3,4} = \\text{-oc_DOM}\\times\n",
    "\\text{qy_DOM} \\times\n",
    "\\text{f_par} \\times\n",
    "\\frac{1}{\\text{e_par}} \\times \n",
    "Q_{sw} \\times \n",
    "\\text{Attn_z} & & s^{-1}  \\\\\n",
    "&R_{5} = k_{floc} \\times OM_{i}\n",
    "\\end{align}\n",
    "$$\n",
    "\n",
    "## Parameters. Parameters which correspond to reactions given in the \"Rates\" section\n",
    "<div>\n",
    "<table>\n",
    "  <tr>\n",
    "    <th>Parameter</th>\n",
    "    <th>Range(Value)&nbsp; &nbsp; &nbsp;</th>\n",
    "    <th>Units </th>\n",
    "    <th>Definition</th>\n",
    "  </tr>\n",
    "  <tr>\n",
    "    <th colspan =\"4\">Compositions of DOM</th>\n",
    "  </tr>\n",
    "  <tr>\n",
    "    <td>Pool A</td>\n",
    "    <td>&mdash;</td>\n",
    "    <td>&mdash;</td>\n",
    "    <td>Autochtonous</td>\n",
    "  </tr>\n",
    "  <tr>\n",
    "    <td>Pool B</td>\n",
    "    <td>&mdash;</td>\n",
    "    <td>&mdash;</td>\n",
    "    <td>Allochtonous</td>\n",
    "  </tr>\n",
    "  <tr>\n",
    "    <th colspan =\"4\">Half-saturation coefficients</th>\n",
    "  </tr>\n",
    "  <tr>\n",
    "    <td>$\\ce{K_{O2}^{m}}$</td>\n",
    "    <td>$\\left(1.23 \\times 10^{9}\\right)$</td>\n",
    "    <td>$\\mu mol \\cdot m^{3}$</td>\n",
    "    <td>Respiration</td>\n",
    "  </tr>\n",
    "  <tr>\n",
    "    <td>$\\ce{K_{NO3}^{m}}$</td>\n",
    "    <td>$\\left(10^{9}\\right)$</td>\n",
    "    <td>$\\mu mol \\cdot m^{3}$</td>\n",
    "    <td>Denitrification</td>\n",
    "  </tr>\n",
    "  <tr>\n",
    "    <th colspan =\"4\">Inhibition coefficients</th>\n",
    "  </tr>\n",
    "  <tr>\n",
    "    <td>$\\ce{K_{O2}^{in}}$</td>\n",
    "    <td>$\\left(3.3 \\times 10^{8}\\right)$</td>\n",
    "    <td>$\\mu mol \\cdot m^{3}$</td>\n",
    "    <td>Inhibition of <br> denitrification by $\\ce{O2}$</td>\n",
    "  </tr>\n",
    "  <tr>\n",
    "    <th colspan =\"4\">Rate constants</th>\n",
    "  </tr>\n",
    "  <tr>\n",
    "    <td>k$_{\\text{OM1}}$</td>\n",
    "    <td>(1)</td>\n",
    "    <td>$yr^{-1}$</td>\n",
    "    <td>OM1 degradation</td>\n",
    "  </tr>\n",
    "  <tr>\n",
    "    <td>k$_{\\text{OM2}}$</td>\n",
    "    <td>(0.1)</td>\n",
    "    <td>$yr^{-1}$</td>\n",
    "    <td>OM2 degradation</td>\n",
    "  </tr>\n",
    "  <tr>\n",
    "    <th colspan =\"4\">Physical parameters</th>\n",
    "  </tr>\n",
    "  <tr>\n",
    "    <td>oc_DOC</td>\n",
    "    <td>(0.01)</td>\n",
    "    <td>$m^{2}\\cdot mg \\cdot \\text{DOM}^{-1}$</td>\n",
    "    <td>Optical cross-section <br> of DOM</td>\n",
    "  </tr>\n",
    "  <tr>\n",
    "    <td>qy_DOM</td>\n",
    "    <td>(0.1)</td>\n",
    "    <td>$mg \\cdot mol^{-1}$</td>\n",
    "    <td>Quantum yield</td>\n",
    "  </tr>\n",
    "  <tr>\n",
    "    <td>F_par</td>\n",
    "    <td>0 &ndash; 1 (0.45)</td>\n",
    "    <td>&mdash; &nbsp; &nbsp; &nbsp; &nbsp; &nbsp; &nbsp; &nbsp; &nbsp; &nbsp; &nbsp; &nbsp; &nbsp; &nbsp; &nbsp;           </td>\n",
    "    <td>Fraction of PAR <br> in incoming solar <br> radiation</td>\n",
    "  </tr>\n",
    "  <tr>\n",
    "    <td>E_par</td>\n",
    "    <td>(240800)</td>\n",
    "    <td>$J\\cdot mol^{-1}$</td>\n",
    "    <td>Average energy <br> of PAR photons</td>\n",
    "  </tr>\n",
    "  <tr>\n",
    "    <td>Q$_{\\text{sw}}$</td>\n",
    "    <td,bf>From FABM</td,bf>\n",
    "    <td>$W\\cdot m^{2}$</td>\n",
    "    <td>Shortwave <br> radiation flux</td>\n",
    "  </tr>\n",
    "  <tr>\n",
    "    <td>Attn$_{\\text{z}}$</td>\n",
    "    <td,bf>From FABM</td,bf>\n",
    "    <td>&mdash;</td>\n",
    "    <td>Incoming radiation <br> absorbed at layer z</td>\n",
    "  </tr>\n",
    "  <tr>\n",
    "    <td>$\\theta$</td>\n",
    "    <td,bf>(1.047)</td,bf>\n",
    "    <td>&mdash;</td>\n",
    "    <td>Temperature adjustment <br> coefficient</td>\n",
    "  </tr>\n",
    "  <tr>\n",
    "    <td>$k_{floc}$</td>\n",
    "    <td,bf>$\\left(9.51 \\times 10^{-13}\\right)$</td,bf>\n",
    "    <td>$s^{-1}$</td>\n",
    "    <td>Flocculation <br> coefficient</td>\n",
    "  </tr>\n",
    "</table>\n",
    "</div>\n",
    "\n",
    "\n",
    "The implementation of the DOM model in [FABM](www.fabm.net) was done in the [PROGNOS project](http://prognoswater.org/)."
   ]
  },
  {
   "cell_type": "code",
   "execution_count": null,
   "metadata": {
    "collapsed": true,
    "deletable": true,
    "editable": true
   },
   "outputs": [],
   "source": [
    "# Import standard python packages\n",
    "import numpy\n",
    "import scipy.integrate"
   ]
  },
  {
   "cell_type": "markdown",
   "metadata": {
    "deletable": true,
    "editable": true
   },
   "source": [
    "Import __pyfabm__ - the python module that contains the Fortran based [FABM](www.fabm.net)"
   ]
  },
  {
   "cell_type": "code",
   "execution_count": 61,
   "metadata": {
    "collapsed": false,
    "deletable": true,
    "editable": true
   },
   "outputs": [
    {
     "data": {
      "text/plain": [
       "'v0.95.3-51-gb029844-dirty (master branch)'"
      ]
     },
     "execution_count": 61,
     "metadata": {},
     "output_type": "execute_result"
    }
   ],
   "source": [
    "import pyfabm\n",
    "pyfabm.get_version()"
   ]
  },
  {
   "cell_type": "markdown",
   "metadata": {
    "deletable": true,
    "editable": true
   },
   "source": [
    "## Configuration\n",
    "The model configuration is done via the YAML formatted file."
   ]
  },
  {
   "cell_type": "code",
   "execution_count": 62,
   "metadata": {
    "collapsed": false,
    "deletable": true,
    "editable": true
   },
   "outputs": [],
   "source": [
    "yaml_file = '../../../../testcases/fabm-prognos-dom.yaml'\n",
    "model = pyfabm.Model(yaml_file)\n",
    "model.findDependency('bottom_depth').value = 1.\n",
    "model.checkReady(stop=True)\n",
    "y0 = model.state"
   ]
  },
  {
   "cell_type": "markdown",
   "metadata": {
    "deletable": true,
    "editable": true
   },
   "source": [
    "## Model increment"
   ]
  },
  {
   "cell_type": "code",
   "execution_count": 63,
   "metadata": {
    "collapsed": true,
    "deletable": true,
    "editable": true
   },
   "outputs": [],
   "source": [
    "def dy(y,t0):\n",
    "    model.state[:] = y\n",
    "    return model.getRates()"
   ]
  },
  {
   "cell_type": "markdown",
   "metadata": {
    "deletable": true,
    "editable": true
   },
   "source": [
    "## Time axis and model integration"
   ]
  },
  {
   "cell_type": "code",
   "execution_count": 64,
   "metadata": {
    "collapsed": false,
    "deletable": true,
    "editable": true
   },
   "outputs": [],
   "source": [
    "t = numpy.linspace(0,200.,100)\n",
    "y = scipy.integrate.odeint(dy,model.state,100000*t)"
   ]
  },
  {
   "cell_type": "markdown",
   "metadata": {
    "deletable": true,
    "editable": true
   },
   "source": [
    "## Plot the results"
   ]
  },
  {
   "cell_type": "code",
   "execution_count": 65,
   "metadata": {
    "collapsed": false,
    "deletable": true,
    "editable": true
   },
   "outputs": [
    {
     "data": {
      "image/png": "[encoded data removed]",
      "text/plain": [
       "<matplotlib.figure.Figure at 0x7fc15a7a31d0>"
      ]
     },
     "metadata": {},
     "output_type": "display_data"
    }
   ],
   "source": [
    "import pylab\n",
    "pylab.plot(t,y)\n",
    "pylab.title('Time series plots')\n",
    "pylab.legend([variable.path for variable in model.state_variables])\n",
    "pylab.show()"
   ]
  },
  {
   "cell_type": "code",
   "execution_count": null,
   "metadata": {
    "collapsed": true,
    "deletable": true,
    "editable": true
   },
   "outputs": [],
   "source": []
  }
 ],
 "metadata": {
  "kernelspec": {
   "display_name": "Python 2",
   "language": "python",
   "name": "python2"
  },
  "language_info": {
   "codemirror_mode": {
    "name": "ipython",
    "version": 2
   },
   "file_extension": ".py",
   "mimetype": "text/x-python",
   "name": "python",
   "nbconvert_exporter": "python",
   "pygments_lexer": "ipython2",
   "version": "2.7.11"
  }
 },
 "nbformat": 4,
 "nbformat_minor": 2
}
